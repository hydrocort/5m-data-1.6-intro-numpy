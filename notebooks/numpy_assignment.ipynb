{
 "cells": [
  {
   "cell_type": "code",
   "execution_count": 1,
   "id": "c7c3d1e6",
   "metadata": {},
   "outputs": [],
   "source": [
    "import numpy as np"
   ]
  },
  {
   "cell_type": "markdown",
   "id": "7d481773",
   "metadata": {},
   "source": [
    "### Question 1\n",
    "\n",
    "Given the following numpy array:\n",
    "\n",
    "```python\n",
    "arr = np.array([1, 2, 3, 4, 5])\n",
    "```\n",
    "\n",
    "Write a Python code to multiply each element in the array by 2."
   ]
  },
  {
   "cell_type": "code",
   "execution_count": 4,
   "id": "5cc5ca4c",
   "metadata": {},
   "outputs": [
    {
     "data": {
      "text/plain": [
       "array([ 2,  4,  6,  8, 10])"
      ]
     },
     "execution_count": 4,
     "metadata": {},
     "output_type": "execute_result"
    }
   ],
   "source": [
    "arr = np.array([1, 2, 3, 4, 5])\n",
    "\n",
    "arr = arr * 2\n",
    "\n",
    "arr"
   ]
  },
  {
   "cell_type": "markdown",
   "id": "0aa8ee57",
   "metadata": {},
   "source": [
    "### Question 2\n",
    "\n",
    "Given the following 2D numpy array:\n",
    "\n",
    "```python\n",
    "arr = np.array([[1, 2, 3], [4, 5, 6], [7, 8, 9]])\n",
    "```\n",
    "\n",
    "Write a Python code to select the second row of the array."
   ]
  },
  {
   "cell_type": "code",
   "execution_count": 5,
   "id": "c9cdbe01",
   "metadata": {},
   "outputs": [
    {
     "data": {
      "text/plain": [
       "array([4, 5, 6])"
      ]
     },
     "execution_count": 5,
     "metadata": {},
     "output_type": "execute_result"
    }
   ],
   "source": [
    "arr = np.array([[1, 2, 3], [4, 5, 6], [7, 8, 9]])\n",
    "\n",
    "arr[1,:]"
   ]
  },
  {
   "cell_type": "markdown",
   "id": "a6799113",
   "metadata": {},
   "source": [
    "### Question 3\n",
    "\n",
    "Create a 2D numpy array of shape (5, 5) filled with the number 1."
   ]
  },
  {
   "cell_type": "code",
   "execution_count": 7,
   "id": "0603b37c",
   "metadata": {},
   "outputs": [
    {
     "data": {
      "text/plain": [
       "array([[1., 1., 1., 1., 1.],\n",
       "       [1., 1., 1., 1., 1.],\n",
       "       [1., 1., 1., 1., 1.],\n",
       "       [1., 1., 1., 1., 1.],\n",
       "       [1., 1., 1., 1., 1.]])"
      ]
     },
     "execution_count": 7,
     "metadata": {},
     "output_type": "execute_result"
    }
   ],
   "source": [
    "arr = np.ones((5, 5))\n",
    "\n",
    "arr"
   ]
  },
  {
   "cell_type": "markdown",
   "id": "9b7230f6",
   "metadata": {},
   "source": [
    "### Question 4\n",
    "\n",
    "Given the following 2D numpy array:\n",
    "\n",
    "```python\n",
    "arr = np.array([[1, 2, 3], [4, 5, 6], [7, 8, 9]])\n",
    "```\n",
    "\n",
    "Write a Python code to calculate the sum of all the elements in each row."
   ]
  },
  {
   "cell_type": "code",
   "execution_count": 12,
   "id": "60bf093a",
   "metadata": {},
   "outputs": [
    {
     "data": {
      "text/plain": [
       "array([ 6, 15, 24])"
      ]
     },
     "execution_count": 12,
     "metadata": {},
     "output_type": "execute_result"
    }
   ],
   "source": [
    "arr = np.array([[1, 2, 3], [4, 5, 6], [7, 8, 9]])\n",
    "\n",
    "arr.sum(axis=1)"
   ]
  },
  {
   "cell_type": "markdown",
   "id": "baf69fe3",
   "metadata": {},
   "source": [
    "### Question 5\n",
    "\n",
    "Given the following 2D numpy array:\n",
    "\n",
    "```python\n",
    "arr = np.array([[1, 2, 3], [4, 5, 6], [7, 8, 9]])\n",
    "```\n",
    "\n",
    "Write a Python code to calculate the average of all the elements."
   ]
  },
  {
   "cell_type": "code",
   "execution_count": 13,
   "id": "c50a3cc9",
   "metadata": {},
   "outputs": [
    {
     "data": {
      "text/plain": [
       "5.0"
      ]
     },
     "execution_count": 13,
     "metadata": {},
     "output_type": "execute_result"
    }
   ],
   "source": [
    "arr = np.array([[1, 2, 3], [4, 5, 6], [7, 8, 9]])\n",
    "\n",
    "arr.mean()"
   ]
  }
 ],
 "metadata": {
  "kernelspec": {
   "display_name": "pds",
   "language": "python",
   "name": "python3"
  },
  "language_info": {
   "codemirror_mode": {
    "name": "ipython",
    "version": 3
   },
   "file_extension": ".py",
   "mimetype": "text/x-python",
   "name": "python",
   "nbconvert_exporter": "python",
   "pygments_lexer": "ipython3",
   "version": "3.10.18"
  }
 },
 "nbformat": 4,
 "nbformat_minor": 5
}
